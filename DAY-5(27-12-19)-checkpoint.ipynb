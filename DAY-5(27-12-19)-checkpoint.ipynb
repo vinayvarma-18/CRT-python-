{
 "cells": [
  {
   "cell_type": "code",
   "execution_count": null,
   "metadata": {},
   "outputs": [],
   "source": []
  },
  {
   "cell_type": "code",
   "execution_count": 3,
   "metadata": {},
   "outputs": [
    {
     "name": "stdout",
     "output_type": "stream",
     "text": [
      "enter a string:python123go456good789\n",
      "count is: 9 no of characters: 45\n"
     ]
    }
   ],
   "source": [
    "s=input(\"enter a string:\")\n",
    "i=0\n",
    "count=0\n",
    "sum=0\n",
    "while i<len(s):\n",
    "    if s[i].isdigit():\n",
    "        count+=1\n",
    "        sum+=int(s[i])\n",
    "    i+=1\n",
    "print(\"count is:\",count,\"no of characters:\",sum)"
   ]
  },
  {
   "cell_type": "code",
   "execution_count": 10,
   "metadata": {},
   "outputs": [
    {
     "name": "stdout",
     "output_type": "stream",
     "text": [
      "enter a number:10\n",
      "1 2 3 4 5 6 7 8 9 10 "
     ]
    }
   ],
   "source": [
    "#for loop\n",
    "n=int(input(\"enter a number:\"))\n",
    "for i in range(1,n+1):\n",
    "        print(i,end=\" \")"
   ]
  },
  {
   "cell_type": "code",
   "execution_count": 19,
   "metadata": {},
   "outputs": [
    {
     "name": "stdout",
     "output_type": "stream",
     "text": [
      "python\n",
      "p y t h o n \n",
      "p y t h o n \n",
      "p y t h o n "
     ]
    }
   ],
   "source": [
    "s=input()\n",
    "i=0\n",
    "while i<len(s):\n",
    "    print(s[i],end=\" \")\n",
    "    i+=1\n",
    "print()\n",
    "for i in range(0,len(s)):\n",
    "    print(s[i],end=\" \")\n",
    "print()\n",
    "for i in s:\n",
    "    print(i,end=\" \")"
   ]
  },
  {
   "cell_type": "markdown",
   "metadata": {},
   "source": [
    "# collection type datatype\n",
    "## list:\n",
    "\n",
    "1. for creating a list use []\n",
    "2. list are mutable\n",
    "3. list are indexed\n",
    "4. list are ordered \n",
    "5. list allows duplicate values\n",
    "6. list stores heterogenous values"
   ]
  },
  {
   "cell_type": "code",
   "execution_count": 31,
   "metadata": {},
   "outputs": [
    {
     "name": "stdout",
     "output_type": "stream",
     "text": [
      "[1, 2, 3]\n",
      "[56, 78]\n",
      "gnirts\n",
      "3\n"
     ]
    }
   ],
   "source": [
    "list=[23,34,56,78,89,\"string\",True,[1,2,3,]]\n",
    "print(list[-1])\n",
    "print(list[2:4])\n",
    "print(list[-3][::-1])\n",
    "print(list[-1][-1])"
   ]
  },
  {
   "cell_type": "code",
   "execution_count": 33,
   "metadata": {},
   "outputs": [
    {
     "name": "stdout",
     "output_type": "stream",
     "text": [
      "print elements before append: [24, 35, 56, 78]\n",
      "print elements after append: [24, 35, 56, 78, 100, 59, 61]\n"
     ]
    }
   ],
   "source": [
    "# manipulating a list\n",
    "## 1.adding elements\n",
    "list1=[24,35,56,78]\n",
    "print(\"print elements before append:\",list1)\n",
    "list1.append(100)\n",
    "list1.append(59)\n",
    "list1.append(61)\n",
    "print(\"print elements after append:\",list1)"
   ]
  },
  {
   "cell_type": "code",
   "execution_count": 38,
   "metadata": {},
   "outputs": [
    {
     "name": "stdout",
     "output_type": "stream",
     "text": [
      "[24, 35, 56, 78, 77, 77, 77, 77, 77, 100, 59, 61]\n"
     ]
    }
   ],
   "source": [
    "## insert is used to insert in between\n",
    "list1.insert(4,77)\n",
    "print(list1)"
   ]
  },
  {
   "cell_type": "code",
   "execution_count": 39,
   "metadata": {},
   "outputs": [
    {
     "name": "stdout",
     "output_type": "stream",
     "text": [
      "[24, 35, 56, 78, 77, 77, 77, 77, 77, 100, 59, 61, 4, 5, 6]\n"
     ]
    }
   ],
   "source": [
    "## extend is used to add multiple values inside a list\n",
    "list1.extend([4,5,6])\n",
    "print(list1)"
   ]
  },
  {
   "cell_type": "code",
   "execution_count": 45,
   "metadata": {},
   "outputs": [
    {
     "name": "stdout",
     "output_type": "stream",
     "text": [
      "[24, 35, 56, 78, 77, 59, 61, 4, 5]\n",
      "[24, 35, 56, 78, 77, 59, 4, 5]\n"
     ]
    }
   ],
   "source": [
    "#remove elements from the list\n",
    "list1.pop(5)\n",
    "print(list1)\n",
    "list1.remove(61)\n",
    "print(list1)"
   ]
  },
  {
   "cell_type": "code",
   "execution_count": 48,
   "metadata": {},
   "outputs": [
    {
     "name": "stdout",
     "output_type": "stream",
     "text": [
      "[]\n"
     ]
    }
   ],
   "source": [
    "#clear all elementsin list\n",
    "list3=[1,2,3,4]\n",
    "list3.clear()\n",
    "print(list3)"
   ]
  },
  {
   "cell_type": "code",
   "execution_count": 49,
   "metadata": {},
   "outputs": [
    {
     "name": "stdout",
     "output_type": "stream",
     "text": [
      "[24, 35, 45, 78, 77, 59, 4, 5]\n"
     ]
    }
   ],
   "source": [
    "#replace elements\n",
    "list1[2]=45\n",
    "print(list1)"
   ]
  },
  {
   "cell_type": "code",
   "execution_count": 56,
   "metadata": {},
   "outputs": [
    {
     "name": "stdout",
     "output_type": "stream",
     "text": [
      "[2, 7, 24, 56, 67, 68, 79]\n"
     ]
    },
    {
     "data": {
      "text/plain": [
       "[79, 68, 67, 56, 24, 7, 2]"
      ]
     },
     "execution_count": 56,
     "metadata": {},
     "output_type": "execute_result"
    }
   ],
   "source": [
    "#sorting a list\n",
    "list4=[24,56,7,68,79,2,67]\n",
    "list4.sort()\n",
    "print(list4)\n",
    "list4.sort(reverse=True)\n",
    "list4"
   ]
  },
  {
   "cell_type": "code",
   "execution_count": 57,
   "metadata": {},
   "outputs": [
    {
     "data": {
      "text/plain": [
       "[22, 45, 154, 545, 55, 42]"
      ]
     },
     "execution_count": 57,
     "metadata": {},
     "output_type": "execute_result"
    }
   ],
   "source": [
    "#reversing a list\n",
    "list1=[42,55,545,154,45,22]\n",
    "list1.reverse()\n",
    "list1"
   ]
  },
  {
   "cell_type": "code",
   "execution_count": 58,
   "metadata": {},
   "outputs": [
    {
     "data": {
      "text/plain": [
       "3"
      ]
     },
     "execution_count": 58,
     "metadata": {},
     "output_type": "execute_result"
    }
   ],
   "source": [
    "#to list the position of an element in a list\n",
    "list1.index(545)\n"
   ]
  },
  {
   "cell_type": "code",
   "execution_count": 59,
   "metadata": {},
   "outputs": [
    {
     "name": "stdout",
     "output_type": "stream",
     "text": [
      "[22, 45, 154, 545, 55, 42]\n"
     ]
    }
   ],
   "source": [
    "list2=list1.copy()\n",
    "print(list2)"
   ]
  },
  {
   "cell_type": "code",
   "execution_count": 72,
   "metadata": {},
   "outputs": [
    {
     "name": "stdout",
     "output_type": "stream",
     "text": [
      "[4, 16, 25, 49, 64]\n",
      "[4, 16, 25, 49, 64]\n"
     ]
    }
   ],
   "source": [
    "#square of numbers in a list\n",
    "list5=[2,4,5,7,8]\n",
    "list6=[]\n",
    "list7=[]\n",
    "\n",
    "for i in range(0,len(list5)): #with range\n",
    "    list6.append(list5[i]**2)\n",
    "print(list6)\n",
    "\n",
    "for i in list5: #without range\n",
    "    list7.append(i**2)\n",
    "print(list7)"
   ]
  },
  {
   "cell_type": "code",
   "execution_count": 79,
   "metadata": {},
   "outputs": [
    {
     "name": "stdout",
     "output_type": "stream",
     "text": [
      "[2, 4, 6]\n"
     ]
    }
   ],
   "source": [
    "#even numbers in a list\n",
    "l1=[2,3,4,5,6,7]\n",
    "l2=[]\n",
    "for i in l1:\n",
    "    if i%2==0:\n",
    "        l2.append(i)\n",
    "print(l2)"
   ]
  },
  {
   "cell_type": "code",
   "execution_count": 8,
   "metadata": {},
   "outputs": [
    {
     "name": "stdout",
     "output_type": "stream",
     "text": [
      "enter list:3\n",
      "1\n",
      "2\n",
      "3\n",
      "the result is: 6\n"
     ]
    }
   ],
   "source": [
    "#sum of values in a list\n",
    "n=[]\n",
    "z=int(input(\"enter list:\"))\n",
    "for i in range(z):\n",
    "    n.append(int(input()))\n",
    "a=sum(n)\n",
    "print(\"the result is:\",a)"
   ]
  },
  {
   "cell_type": "code",
   "execution_count": 12,
   "metadata": {},
   "outputs": [
    {
     "name": "stdout",
     "output_type": "stream",
     "text": [
      "(13, 34, 56, 23, 10)\n",
      "<class 'tuple'>\n"
     ]
    }
   ],
   "source": [
    "##tuple\n",
    "z=13,34,56,23,10\n",
    "print(z)\n",
    "print(type(z))"
   ]
  },
  {
   "cell_type": "code",
   "execution_count": 13,
   "metadata": {},
   "outputs": [
    {
     "name": "stdout",
     "output_type": "stream",
     "text": [
      "(23, 4, 56)\n"
     ]
    }
   ],
   "source": [
    "tup=(23,4,56)\n",
    "x,y,x=tup\n",
    "print(tup)"
   ]
  },
  {
   "cell_type": "markdown",
   "metadata": {},
   "source": [
    "## dictionary\n",
    "## syntax :(key1:value1,key2:value2,.....)\n",
    "key:\n",
    " 1.key should be unique\n",
    " 2.keys should be immutable --> int,float,string,tuple"
   ]
  },
  {
   "cell_type": "code",
   "execution_count": 16,
   "metadata": {},
   "outputs": [
    {
     "data": {
      "text/plain": [
       "'python'"
      ]
     },
     "execution_count": 16,
     "metadata": {},
     "output_type": "execute_result"
    }
   ],
   "source": [
    "dic1={\"name\":\"preethi\",\"course\":\"python\",\"address\":\"hyd\"}\n",
    "dic1[\"course\"]"
   ]
  },
  {
   "cell_type": "code",
   "execution_count": 17,
   "metadata": {},
   "outputs": [
    {
     "name": "stdout",
     "output_type": "stream",
     "text": [
      "{'name': 'preethi', 'course': 'java', 'address': 'hyd'}\n"
     ]
    }
   ],
   "source": [
    "#replace\n",
    "dic1[\"course\"]=\"java\"\n",
    "print(dic1)"
   ]
  },
  {
   "cell_type": "code",
   "execution_count": 18,
   "metadata": {},
   "outputs": [
    {
     "name": "stdout",
     "output_type": "stream",
     "text": [
      "{'name': 'preethi', 'course': 'java', 'address': 'hyd', 'college': 'gitam'}\n"
     ]
    }
   ],
   "source": [
    "#adding\n",
    "dic1[\"college\"]=\"gitam\"\n",
    "print(dic1)"
   ]
  },
  {
   "cell_type": "code",
   "execution_count": 20,
   "metadata": {},
   "outputs": [
    {
     "name": "stdout",
     "output_type": "stream",
     "text": [
      "{'name': 'preethi', 'course': 'java', 'college': 'gitam'}\n"
     ]
    }
   ],
   "source": [
    "#remove\n",
    "del dic1[\"address\"]\n",
    "print(dic1)\n"
   ]
  },
  {
   "cell_type": "markdown",
   "metadata": {},
   "source": [
    "# Function\n",
    "## def name_of_the_function(arg list)\n",
    "##        statements\n",
    "##        return"
   ]
  },
  {
   "cell_type": "code",
   "execution_count": 22,
   "metadata": {},
   "outputs": [
    {
     "name": "stdout",
     "output_type": "stream",
     "text": [
      "30\n",
      "None\n",
      "300\n",
      "None\n"
     ]
    }
   ],
   "source": [
    "def add(x,y): #function definition\n",
    "    print(x+y)\n",
    "print(add(10,20))#function calling\n",
    "print(add(100,200))"
   ]
  },
  {
   "cell_type": "code",
   "execution_count": 24,
   "metadata": {},
   "outputs": [
    {
     "name": "stdout",
     "output_type": "stream",
     "text": [
      "4\n",
      "27\n"
     ]
    }
   ],
   "source": [
    "def square(x):\n",
    "    return x*x\n",
    "def cube(x):\n",
    "    return square(x)*x\n",
    "print(square(2))\n",
    "print(cube(3))"
   ]
  },
  {
   "cell_type": "code",
   "execution_count": 25,
   "metadata": {},
   "outputs": [
    {
     "name": "stdout",
     "output_type": "stream",
     "text": [
      "[1, 3, 5, 7, 9]\n"
     ]
    }
   ],
   "source": [
    "a=[1,2,3,4,5,6,7,8,9]\n",
    "print(a[::2])"
   ]
  },
  {
   "cell_type": "code",
   "execution_count": 26,
   "metadata": {},
   "outputs": [
    {
     "name": "stdout",
     "output_type": "stream",
     "text": [
      "4\n",
      "3\n",
      "2\n",
      "1\n"
     ]
    }
   ],
   "source": [
    "for i in [1,2,3,4][::-1]:\n",
    "    print(i)"
   ]
  },
  {
   "cell_type": "code",
   "execution_count": null,
   "metadata": {},
   "outputs": [],
   "source": []
  }
 ],
 "metadata": {
  "kernelspec": {
   "display_name": "Python 3",
   "language": "python",
   "name": "python3"
  },
  "language_info": {
   "codemirror_mode": {
    "name": "ipython",
    "version": 3
   },
   "file_extension": ".py",
   "mimetype": "text/x-python",
   "name": "python",
   "nbconvert_exporter": "python",
   "pygments_lexer": "ipython3",
   "version": "3.7.4"
  }
 },
 "nbformat": 4,
 "nbformat_minor": 2
}
